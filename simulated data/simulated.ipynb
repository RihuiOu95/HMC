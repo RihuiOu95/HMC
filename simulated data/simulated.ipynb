{
 "cells": [
  {
   "cell_type": "code",
   "execution_count": 1,
   "metadata": {
    "collapsed": true
   },
   "outputs": [],
   "source": [
    "import numpy as np\n",
    "from functools import partial\n",
    "import math\n",
    "import matplotlib.pyplot as plt\n",
    "import seaborn as sns\n",
    "from numba import jit, vectorize, float64, int64\n",
    "import stahmctestt as stt #our package\n",
    "%matplotlib inline"
   ]
  },
  {
   "cell_type": "markdown",
   "metadata": {},
   "source": [
    "## Analysis on simulated logistic regression"
   ]
  },
  {
   "cell_type": "code",
   "execution_count": 61,
   "metadata": {
    "collapsed": false
   },
   "outputs": [],
   "source": [
    "#define the gradient function for logistic regression\n",
    "#derivation refer to hdeg.ipynb\n",
    "@jit(cache=True)\n",
    "def gradlogistic(theta,X,y):  \n",
    "    \"\"\"\n",
    "    theta:p.1-1d array\n",
    "    X:n.p-2d array\n",
    "    y n.1-1d array\"\"\"\n",
    "    drll=np.diag(y-1/(1+np.exp(-X@theta)))@X\n",
    "    drpri=-np.linalg.solve(np.diag([16,16,16,16,16]),theta)\n",
    "    return -drpri,-drll.mean(axis=0)"
   ]
  },
  {
   "cell_type": "code",
   "execution_count": 62,
   "metadata": {
    "collapsed": true
   },
   "outputs": [],
   "source": [
    "###simulate data\n",
    "def sim_log(m,n,theta):\n",
    "    \"\"\"This function outputs a simulated logistics regression dataset X and y. \n",
    "       X is a matrix of size m by n. Every entry of X is i.i.d N(0,1).\n",
    "    Args:\n",
    "        m: the number of rows in X\n",
    "        n: the number of columns in X\n",
    "        beta: a n by 1 vector, the true beta in the model\n",
    "    \"\"\"\n",
    "    X=np.random.normal(loc=0,scale=1,size=[m,n])\n",
    "    y=np.random.binomial(n=1,p=1/(1+np.exp(-(X @ theta))))\n",
    "    return X,y"
   ]
  },
  {
   "cell_type": "code",
   "execution_count": 67,
   "metadata": {
    "collapsed": false
   },
   "outputs": [],
   "source": [
    "#split data into training and testing\n",
    "theta=np.array([2,10,-5,0,0])\n",
    "X,y=sim_log(20000,5,theta)\n",
    "testidx=np.random.choice(range(20000),10000,replace=False)\n",
    "trainidx=np.array(list(set(range(20000))-set(testidx)))\n",
    "X_train=X[trainidx,:]\n",
    "y_train=y[trainidx]\n",
    "X_test=X[testidx,:]\n",
    "y_test=y[testidx]"
   ]
  },
  {
   "cell_type": "code",
   "execution_count": 68,
   "metadata": {
    "collapsed": true
   },
   "outputs": [],
   "source": [
    "#the posterior sampler using sgld \n",
    "@jit([float64[:,:](float64[:,:],float64[:],float64[:],float64[:,:],float64[:,:],float64, int64,int64)],cache=True)\n",
    "def sgld_nbvec(X,y,theta0,M,C,epsilon,batchsize=50,iter=1000):\n",
    "    \"\"\"\n",
    "    This function outputs the p dimiension Hamilton Monte Carlo samples without M-H correction.    \n",
    "    Args: \n",
    "        X:n.p-2d array\n",
    "        y n.1-1d array\n",
    "        theta0: the initial point of theta, the parameter of interest\n",
    "        grad: the gradient of the potential\n",
    "        M: the mass\n",
    "        C: the C term, where C*M^{-1} is the friction\n",
    "        epsilon: stepsize\n",
    "        p: the dimension of theta\n",
    "        batchsize: the number of minibatch used\n",
    "        iter: iteration number, 1000 by default\n",
    "    \"\"\"\n",
    "    n=y.size\n",
    "    T=X.shape[0]\n",
    "    p=theta0.shape[0]\n",
    "    theta=theta0\n",
    "    theta_save=np.zeros([iter,p])\n",
    "    for t in range(iter):    \n",
    "        batch=np.random.choice(n,batchsize,replace=False)\n",
    "        pr,ll=gradlogistic(theta,X[batch,:],y[batch])\n",
    "        theta=theta-(pr+T*ll)*epsilon+np.random.multivariate_normal(np.zeros(p),2*epsilon*np.identity(p),1).ravel()\n",
    "        theta_save[t,:]=theta\n",
    "    return theta_save"
   ]
  },
  {
   "cell_type": "code",
   "execution_count": 69,
   "metadata": {
    "collapsed": true
   },
   "outputs": [],
   "source": [
    "#the posterior sampler using sg HMC without M-H\n",
    "@jit([float64[:,:](float64[:,:],float64[:],float64[:],float64[:,:],float64[:,:],float64, int64,int64)],cache=True)\n",
    "def sgd_nbvec(X,y,theta0,M,C,epsilon,batchsize=50,iter=1000):\n",
    "    \"\"\"\n",
    "    This function outputs the p dimiension Hamilton Monte Carlo samples without M-H correction.    \n",
    "    Args: \n",
    "        X:n.p-2d array\n",
    "        y n.1-1d array\n",
    "        theta0: the initial point of theta, the parameter of interest\n",
    "        grad: the gradient of the potential\n",
    "        M: the mass\n",
    "        C: the C term, where C*M^{-1} is the friction\n",
    "        epsilon: stepsize\n",
    "        p: the dimension of theta\n",
    "        batchsize: the number of minibatch used\n",
    "        iter: iteration number, 1000 by default\n",
    "    \"\"\"\n",
    "    n=y.size\n",
    "    p=theta0.shape[0]\n",
    "    T=X.shape[0]\n",
    "    r=np.random.multivariate_normal(np.zeros(p),M)\n",
    "    theta=theta0\n",
    "    theta_save=np.zeros([iter,p])\n",
    "    r_save=np.zeros([iter,p])\n",
    "    for t in range(iter):\n",
    "        r=np.random.multivariate_normal(np.zeros(p),M)\n",
    "        for i in range(10):\n",
    "            mr=np.linalg.solve(M,r)\n",
    "            theta=theta+epsilon*mr\n",
    "            batch=np.random.choice(n,batchsize,replace=False)\n",
    "            pr,ll=gradlogistic(theta,X[batch,:],y[batch])\n",
    "            r=r-(pr+T*ll)*epsilon\n",
    "        theta_save[t,:]=theta\n",
    "        r_save[t,:]=r\n",
    "    return theta_save"
   ]
  },
  {
   "cell_type": "code",
   "execution_count": 43,
   "metadata": {
    "collapsed": false
   },
   "outputs": [],
   "source": []
  },
  {
   "cell_type": "code",
   "execution_count": 71,
   "metadata": {
    "collapsed": false
   },
   "outputs": [],
   "source": [
    "#draw posterior from three methods\n",
    "theta0=np.zeros(5)\n",
    "M=C=np.identity(5)\n",
    "epsilon=.001\n",
    "size=100\n",
    "out_sghmc=stt.hmc_nbvec(gradlogistic,X_train,y_train,theta0,M,C,epsilon,size,iter=5000)[:,:5]\n",
    "out_sgld=sgld_nbvec(X_train,y_train,theta0,M,C,epsilon,size,iter=5000)\n",
    "out_sgd=sgd_nbvec(X,y,theta0,M,C,epsilon,size,iter=5000)"
   ]
  },
  {
   "cell_type": "code",
   "execution_count": null,
   "metadata": {
    "collapsed": true
   },
   "outputs": [],
   "source": []
  },
  {
   "cell_type": "code",
   "execution_count": 59,
   "metadata": {
    "collapsed": true
   },
   "outputs": [],
   "source": [
    "#use posterior predictive for prediction\n",
    "def gen_testplot(out_sghmc,out_sgld,out_sgd,y_test,points=[100,200,300,400,500,800,1000,1500,2000,2500,3000,3500,4500,5000]):\n",
    "     \"\"\"This function plots test error vs iteration number using the outputs of samplers    \n",
    "    Args:\n",
    "        out_sghmc: the output of SGHMC sampler\n",
    "        out_sgld: the output of SGLD sampler\n",
    "        X_test: the X of the test set\n",
    "        y_test: the y of the test set\n",
    "        points: the points to record test error\n",
    "        \"\"\"\n",
    "    sghmcerr=[1-np.mean(np.random.binomial(n=1,p=1/(1+np.exp(-(X_test @ out_sghmc[:point,:].T))))==y_test[:,None]) for point in points]\n",
    "    sglderr=[1-np.mean(np.random.binomial(n=1,p=1/(1+np.exp(-(X_test @ out_sgld[:point,:].T))))==y_test[:,None]) for point in points]\n",
    "    sgderr=[1-np.mean(np.random.binomial(n=1,p=1/(1+np.exp(-(X_test @ out_sgd[:point,:].T))))==y_test[:,None]) for point in points]\n",
    "    plt.plot(points,sghmcerr)\n",
    "    plt.plot(points,sglderr)\n",
    "    plt.plot(points,sgderr)\n",
    "    plt.legend(['sghmc','sgld','hmc without M-H'])\n",
    "    plt.title('Test Error vs Iteration Number')\n",
    "    plt.ylabel('Test Error')\n",
    "    plt.xlabel('Iteration Number')\n",
    "    pass"
   ]
  },
  {
   "cell_type": "code",
   "execution_count": 72,
   "metadata": {
    "collapsed": false
   },
   "outputs": [
    {
     "data": {
      "image/png": "[encoded data removed]",
      "text/plain": [
       "<Figure size 432x288 with 1 Axes>"
      ]
     },
     "metadata": {},
     "output_type": "display_data"
    }
   ],
   "source": [
    "gen_testplot(out_sghmc,out_sgld,out_sgd,y_test)"
   ]
  },
  {
   "cell_type": "code",
   "execution_count": null,
   "metadata": {
    "collapsed": true
   },
   "outputs": [],
   "source": []
  }
 ],
 "metadata": {
  "kernelspec": {
   "display_name": "Python 3",
   "language": "python",
   "name": "python3"
  },
  "language_info": {
   "codemirror_mode": {
    "name": "ipython",
    "version": 3
   },
   "file_extension": ".py",
   "mimetype": "text/x-python",
   "name": "python",
   "nbconvert_exporter": "python",
   "pygments_lexer": "ipython3",
   "version": "3.5.2"
  }
 },
 "nbformat": 4,
 "nbformat_minor": 2
}
