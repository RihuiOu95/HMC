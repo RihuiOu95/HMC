{
 "cells": [
  {
   "cell_type": "code",
   "execution_count": 2,
   "metadata": {
    "collapsed": true
   },
   "outputs": [],
   "source": [
    "import numpy as np\n",
    "import matplotlib.pyplot as plt\n",
    "import seaborn as sns\n",
    "from numba import jit, vectorize, float64, int64\n",
    "%matplotlib inline"
   ]
  },
  {
   "cell_type": "markdown",
   "metadata": {},
   "source": [
    "## This is one dimensional comparison\n",
    "### Assume gradient is known \n",
    "$grad(\\theta)=-4\\theta+4\\theta^3$"
   ]
  },
  {
   "cell_type": "code",
   "execution_count": 3,
   "metadata": {
    "collapsed": false
   },
   "outputs": [],
   "source": [
    "#gradient\n",
    "@jit([float64(float64)])\n",
    "def grad(theta):  \n",
    "    \"\"\"this is the gradient function\"\"\"\n",
    "    return -4*theta+4*theta**3"
   ]
  },
  {
   "cell_type": "markdown",
   "metadata": {},
   "source": [
    "### Regulat python"
   ]
  },
  {
   "cell_type": "code",
   "execution_count": 5,
   "metadata": {
    "collapsed": false
   },
   "outputs": [],
   "source": [
    "def hmc_1d(grad,theta0,M,C,epsilon,iter=1000):\n",
    "    \"\"\"\n",
    "    This function outputs the 1 dimiension Hamilton Monte Carlo samples without M-H correction.\n",
    "    \n",
    "    Args: \n",
    "        grad:the gradient for energy of posterior\n",
    "        theta0: the initial point of theta, the parameter of interest\n",
    "        grad: the gradient of the potential\n",
    "        M: the mass\n",
    "        C: the C term, where C*M^{-1} is the friction\n",
    "        epsilon: stepsize\n",
    "        iter: iteration number, 1000 by default\n",
    "    \"\"\"\n",
    "    r=np.random.normal(0,np.sqrt(M))\n",
    "    theta=theta0\n",
    "    theta_save=np.zeros(iter)\n",
    "    r_save=np.zeros(iter)\n",
    "    for t in range(iter):\n",
    "        theta=theta+epsilon*r/M\n",
    "        r=r-grad(theta)*epsilon-epsilon*C*r/M+np.random.normal(0,np.sqrt(2*epsilon*C))\n",
    "        theta_save[t]=theta\n",
    "        r_save[t]=r\n",
    "    return np.c_[theta_save,r_save]"
   ]
  },
  {
   "cell_type": "code",
   "execution_count": 16,
   "metadata": {
    "collapsed": false
   },
   "outputs": [
    {
     "name": "stderr",
     "output_type": "stream",
     "text": [
      "/opt/conda/lib/python3.5/site-packages/scipy/stats/stats.py:1633: FutureWarning: Using a non-tuple sequence for multidimensional indexing is deprecated; use `arr[tuple(seq)]` instead of `arr[seq]`. In the future this will be interpreted as an array index, `arr[np.array(seq)]`, which will result either in an error or a different result.\n",
      "  return np.add.reduce(sorted[indexer] * weights, axis=axis) / sumval\n"
     ]
    },
    {
     "data": {
      "image/png": "[encoded data removed]",
      "text/plain": [
       "<Figure size 432x288 with 1 Axes>"
      ]
     },
     "metadata": {},
     "output_type": "display_data"
    }
   ],
   "source": [
    "#the posterior density\n",
    "theta0=0\n",
    "M=1\n",
    "C=1\n",
    "epsilon=.1\n",
    "k=hmc_1d(grad,theta0,M,C,epsilon,iter=300000)\n",
    "sns.kdeplot(k[:,0])\n",
    "pass"
   ]
  },
  {
   "cell_type": "code",
   "execution_count": 17,
   "metadata": {
    "collapsed": false
   },
   "outputs": [
    {
     "name": "stdout",
     "output_type": "stream",
     "text": [
      "1.52 s ± 18.4 ms per loop (mean ± std. dev. of 7 runs, 1 loop each)\n"
     ]
    }
   ],
   "source": [
    "%timeit hmc_1d(grad,theta0,M,C,epsilon,iter=300000)"
   ]
  },
  {
   "cell_type": "markdown",
   "metadata": {},
   "source": [
    "### Numba Version"
   ]
  },
  {
   "cell_type": "code",
   "execution_count": 18,
   "metadata": {
    "collapsed": false
   },
   "outputs": [],
   "source": [
    "@jit(float64[:,:](float64[:],float64,float64,float64,float64, int64))\n",
    "def hmc_1dnb(grad,theta0,M,C,epsilon,iter=1000):\n",
    "    \"\"\"\n",
    "    This function outputs the 1 dimiension Hamilton Monte Carlo samples without M-H correction.\n",
    "    \n",
    "    Args: \n",
    "        grad:the gradient of energy of posterior\n",
    "        theta0: the initial point of theta, the parameter of interest\n",
    "        grad: the gradient of the potential\n",
    "        M: the mass\n",
    "        C: the C term, where C*M^{-1} is the friction\n",
    "        epsilon: stepsize\n",
    "        iter: iteration number, 1000 by default\n",
    "    \"\"\"\n",
    "    r=np.random.normal(0,np.sqrt(M))\n",
    "    theta=theta0\n",
    "    theta_save=np.zeros(iter)\n",
    "    r_save=np.zeros(iter)\n",
    "    for t in range(iter):\n",
    "        theta=theta+epsilon*r/M\n",
    "        r=r-grad(theta)*epsilon-epsilon*C*r/M+np.random.normal(0,np.sqrt(2*epsilon*C))\n",
    "        theta_save[t]=theta\n",
    "        r_save[t]=r\n",
    "    return np.c_[theta_save,r_save]"
   ]
  },
  {
   "cell_type": "code",
   "execution_count": 20,
   "metadata": {
    "collapsed": false
   },
   "outputs": [
    {
     "name": "stderr",
     "output_type": "stream",
     "text": [
      "/opt/conda/lib/python3.5/site-packages/scipy/stats/stats.py:1633: FutureWarning: Using a non-tuple sequence for multidimensional indexing is deprecated; use `arr[tuple(seq)]` instead of `arr[seq]`. In the future this will be interpreted as an array index, `arr[np.array(seq)]`, which will result either in an error or a different result.\n",
      "  return np.add.reduce(sorted[indexer] * weights, axis=axis) / sumval\n"
     ]
    },
    {
     "data": {
      "image/png": "[encoded data removed]",
      "text/plain": [
       "<Figure size 432x288 with 1 Axes>"
      ]
     },
     "metadata": {},
     "output_type": "display_data"
    }
   ],
   "source": [
    "theta0=0\n",
    "M=1\n",
    "C=1\n",
    "epsilon=.1\n",
    "iter=1000\n",
    "k=hmc_1dnb(grad,theta0,M,C,epsilon,iter=300000)\n",
    "sns.kdeplot(k[:,0])\n",
    "pass"
   ]
  },
  {
   "cell_type": "code",
   "execution_count": 23,
   "metadata": {
    "collapsed": false
   },
   "outputs": [
    {
     "name": "stdout",
     "output_type": "stream",
     "text": [
      "1.45 s ± 14.2 ms per loop (mean ± std. dev. of 7 runs, 1 loop each)\n"
     ]
    }
   ],
   "source": [
    "%timeit hmc_1dnb(grad,theta0,M,C,epsilon,iter=300000)"
   ]
  }
 ],
 "metadata": {
  "kernelspec": {
   "display_name": "Python 3",
   "language": "python",
   "name": "python3"
  },
  "language_info": {
   "codemirror_mode": {
    "name": "ipython",
    "version": 3
   },
   "file_extension": ".py",
   "mimetype": "text/x-python",
   "name": "python",
   "nbconvert_exporter": "python",
   "pygments_lexer": "ipython3",
   "version": "3.5.2"
  }
 },
 "nbformat": 4,
 "nbformat_minor": 2
}
