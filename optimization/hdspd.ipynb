{
 "cells": [
  {
   "cell_type": "code",
   "execution_count": 2,
   "metadata": {
    "collapsed": true
   },
   "outputs": [],
   "source": [
    "import numpy as np\n",
    "from numba import jit, vectorize, float64, int64"
   ]
  },
  {
   "cell_type": "markdown",
   "metadata": {},
   "source": [
    "## This is one dimensional comparison\n",
    "### Assume gradient is known\n",
    "The posterior follows normal distribution with zero mean and covariance matrix:\n",
    "$\n",
    "\\begin{bmatrix} \n",
    "1 & 0.9& 0.8\\\\\n",
    "0.9 & 1 &0.9\\\\\n",
    "0.8 &0.9&1\\\\\n",
    "\\end{bmatrix}\n",
    "$"
   ]
  },
  {
   "cell_type": "code",
   "execution_count": 4,
   "metadata": {
    "collapsed": false
   },
   "outputs": [],
   "source": [
    "@jit\n",
    "def grad(theta):\n",
    "    \"\"\"This is the gradient function\"\"\"\n",
    "    return np.linalg.inv(np.array([[1,.9,0.8],[.9,1,0.9],[0.8,0.9,1]])) @ theta"
   ]
  },
  {
   "cell_type": "markdown",
   "metadata": {},
   "source": [
    "### Regular Python"
   ]
  },
  {
   "cell_type": "code",
   "execution_count": 17,
   "metadata": {
    "collapsed": true
   },
   "outputs": [],
   "source": [
    "def hmcvec(grad,theta0,M,C,epsilon,iter=1000):\n",
    "    \"\"\"\n",
    "    This function outputs the p dimiension Hamilton Monte Carlo samples without M-H correction.    \n",
    "    Args: \n",
    "        grad: the gradient of the potential energy\n",
    "        theta0: the initial point of theta, the parameter of interest\n",
    "        M: the mass\n",
    "        C: the C term, where C*M^{-1} is the friction\n",
    "        epsilon: stepsize\n",
    "        p: the dimension of theta\n",
    "        iter: iteration number, 1000 by default\n",
    "    \"\"\"\n",
    "    p=theta0.shape[0]\n",
    "    r=np.random.multivariate_normal(np.zeros(p),M)\n",
    "    theta=theta0\n",
    "    theta_save=np.zeros([iter,p])\n",
    "    r_save=np.zeros([iter,p])\n",
    "    for t in range(iter):    \n",
    "        theta=theta+epsilon*np.linalg.inv(M)@r\n",
    "        r=r-grad1(theta)*epsilon-epsilon*(np.linalg.inv(M)@r)+np.random.multivariate_normal(np.zeros(p),2*epsilon*C,1).ravel()\n",
    "        theta_save[t,:]=theta\n",
    "        r_save[t,:]=r\n",
    "    return np.c_[theta_save,r_save]"
   ]
  },
  {
   "cell_type": "code",
   "execution_count": 18,
   "metadata": {
    "collapsed": false
   },
   "outputs": [
    {
     "data": {
      "text/plain": [
       "array([[1.        , 0.89786766, 0.80310328],\n",
       "       [0.89786766, 1.        , 0.90023317],\n",
       "       [0.80310328, 0.90023317, 1.        ]])"
      ]
     },
     "execution_count": 18,
     "metadata": {},
     "output_type": "execute_result"
    }
   ],
   "source": [
    "#check result\n",
    "theta0=np.zeros(3)\n",
    "M=np.eye(3)\n",
    "C=np.eye(3)\n",
    "epsilon=.1\n",
    "iter=30000\n",
    "out=hmcvec(grad,theta0,M,C,epsilon,iter=30000)\n",
    "np.corrcoef([out[:,0],out[:,1],out[:,2]])"
   ]
  },
  {
   "cell_type": "code",
   "execution_count": 19,
   "metadata": {
    "collapsed": false
   },
   "outputs": [
    {
     "name": "stdout",
     "output_type": "stream",
     "text": [
      "9.08 s ± 32.1 ms per loop (mean ± std. dev. of 7 runs, 1 loop each)\n"
     ]
    }
   ],
   "source": [
    "%timeit hmcvec(grad,theta0,M,C,epsilon,iter=30000)"
   ]
  },
  {
   "cell_type": "markdown",
   "metadata": {},
   "source": [
    "### Numba Version"
   ]
  },
  {
   "cell_type": "code",
   "execution_count": 22,
   "metadata": {
    "collapsed": false
   },
   "outputs": [],
   "source": [
    "@jit([float64[:,:](float64[:,:],float64[:],float64[:,:],float64[:,:],float64, int64)],cache=True)\n",
    "def hmc_nbvec(grad,theta0,M,C,epsilon,iter=1000):\n",
    "    \"\"\"\n",
    "    This function outputs the p dimiension Hamilton Monte Carlo samples without M-H correction.    \n",
    "    Args: \n",
    "        theta0: the initial point of theta, the parameter of interest\n",
    "        grad: the gradient of the potential\n",
    "        M: the mass\n",
    "        C: the C term, where C*M^{-1} is the friction\n",
    "        epsilon: stepsize\n",
    "        p: the dimension of theta\n",
    "        iter: iteration number, 1000 by default\n",
    "    \"\"\"\n",
    "    \n",
    "    p=theta0.shape[0]\n",
    "    r=np.random.multivariate_normal(np.zeros(p),M)\n",
    "    theta=theta0\n",
    "    theta_save=np.zeros([iter,p])\n",
    "    r_save=np.zeros([iter,p])\n",
    "    for t in range(iter):    \n",
    "        mr=np.linalg.solve(M,r)\n",
    "        theta=theta+epsilon*mr\n",
    "        r=r-grad1(theta)*epsilon-epsilon*np.dot(C,mr)+np.random.multivariate_normal(np.zeros(p),2*epsilon*C,1).ravel()\n",
    "        theta_save[t,:]=theta\n",
    "        r_save[t,:]=r\n",
    "    return np.c_[theta_save,r_save]"
   ]
  },
  {
   "cell_type": "code",
   "execution_count": 23,
   "metadata": {
    "collapsed": false
   },
   "outputs": [
    {
     "data": {
      "text/plain": [
       "array([[1.        , 0.90167228, 0.80501729],\n",
       "       [0.90167228, 1.        , 0.9027092 ],\n",
       "       [0.80501729, 0.9027092 , 1.        ]])"
      ]
     },
     "execution_count": 23,
     "metadata": {},
     "output_type": "execute_result"
    }
   ],
   "source": [
    "#check result\n",
    "theta0=np.zeros(3)\n",
    "M=np.eye(3)\n",
    "C=np.eye(3)\n",
    "epsilon=.1\n",
    "iter=30000\n",
    "out=hmc_nbvec(grad,theta0,M,C,epsilon,iter=30000)\n",
    "np.corrcoef([out[:,0],out[:,1],out[:,2]])"
   ]
  },
  {
   "cell_type": "code",
   "execution_count": 24,
   "metadata": {
    "collapsed": false
   },
   "outputs": [
    {
     "name": "stdout",
     "output_type": "stream",
     "text": [
      "7.52 s ± 49.9 ms per loop (mean ± std. dev. of 7 runs, 1 loop each)\n"
     ]
    }
   ],
   "source": [
    "%timeit hmc_nbvec(grad,theta0,M,C,epsilon,iter=30000)"
   ]
  }
 ],
 "metadata": {
  "kernelspec": {
   "display_name": "Python 3",
   "language": "python",
   "name": "python3"
  },
  "language_info": {
   "codemirror_mode": {
    "name": "ipython",
    "version": 3
   },
   "file_extension": ".py",
   "mimetype": "text/x-python",
   "name": "python",
   "nbconvert_exporter": "python",
   "pygments_lexer": "ipython3",
   "version": "3.5.2"
  }
 },
 "nbformat": 4,
 "nbformat_minor": 2
}
