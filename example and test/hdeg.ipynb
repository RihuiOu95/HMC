{
 "cells": [
  {
   "cell_type": "code",
   "execution_count": 2,
   "metadata": {
    "collapsed": true
   },
   "outputs": [],
   "source": [
    "import numpy as np\n",
    "from numba import jit, vectorize, float64, int64"
   ]
  },
  {
   "cell_type": "code",
   "execution_count": 3,
   "metadata": {
    "collapsed": true
   },
   "outputs": [],
   "source": [
    "import stahmctestt as stt"
   ]
  },
  {
   "cell_type": "markdown",
   "metadata": {},
   "source": [
    "## Derivation of gradient\n",
    "#### Combine real data    \n",
    "$U(\\theta)=log(p(\\theta|D)+log(p(\\theta))$"
   ]
  },
  {
   "cell_type": "markdown",
   "metadata": {},
   "source": [
    "Assume here the prior for $\\theta$ $N(0,diag(2^2,4^2,5^2,0.1^2,0.1^2))$"
   ]
  },
  {
   "cell_type": "markdown",
   "metadata": {},
   "source": [
    "$log(p(\\theta|D_i)=y_ilogp+(1-y_i)log(1-p)=y_ilog(p/1-p)+log(1-p)=y_iX_i'\\theta+log(\\frac{1}{1+exp(X_i'\\theta)})$   \n",
    "\n",
    "$\\frac{\\partial log(p(\\theta|D_i)}{\\partial \\theta}=y_iX_i-\\frac{exp(X_i'\\theta)}{1+exp(X_i'\\theta)}X_i$\n",
    "     \n",
    "$log(p(\\theta))=-1/2 \\theta' V^{-1} \\theta+C$   \n",
    "\n",
    "$\\frac{\\partial log(p(\\theta))}{\\partial \\theta}=- V^{-1} \\theta$   "
   ]
  },
  {
   "cell_type": "code",
   "execution_count": 4,
   "metadata": {
    "collapsed": true
   },
   "outputs": [],
   "source": [
    "###simulate data\n",
    "def sim_log(m,n,theta):\n",
    "    \"\"\"This function outputs a simulated logistics regression dataset X and y. \n",
    "       X is a matrix of size m by n. Every entry of X is i.i.d N(0,1).\n",
    "    Args:\n",
    "        m: the number of rows in X\n",
    "        n: the number of columns in X\n",
    "        beta: a n by 1 vector, the true beta in the model\n",
    "    \"\"\"\n",
    "    X=np.random.normal(loc=0,scale=1,size=[m,n])\n",
    "    y=np.random.binomial(n=1,p=1/(1+np.exp(-(X @ theta))))\n",
    "    return X,y"
   ]
  },
  {
   "cell_type": "code",
   "execution_count": null,
   "metadata": {
    "collapsed": true
   },
   "outputs": [],
   "source": [
    "theta=np.array([1,2,-5,0,0])\n",
    "X,y=sim_log(20000,5,theta)"
   ]
  },
  {
   "cell_type": "code",
   "execution_count": 5,
   "metadata": {
    "collapsed": false
   },
   "outputs": [],
   "source": [
    "#gradient\n",
    "@jit(cache=True)\n",
    "def gradlogistic(theta,X,y):  \n",
    "    \"\"\"\n",
    "    theta:p.1-1d array\n",
    "    X:n.p-2d array\n",
    "    y n.1-1d array\"\"\"\n",
    "    drll=np.diag(y-1/(1+np.exp(-X@theta)))@X\n",
    "    drpri=-np.linalg.solve(np.diag([16,16,16,16,16]),theta)\n",
    "    return -drpri,-drll.mean(axis=0)"
   ]
  },
  {
   "cell_type": "code",
   "execution_count": 9,
   "metadata": {
    "collapsed": false
   },
   "outputs": [],
   "source": [
    "theta0=np.zeros(5)\n",
    "M=C=np.identity(5)\n",
    "epsilon=.001\n",
    "size=200\n",
    "out=stt.hmc_nbvec(gradlogistic,X,y,theta0,M,C,epsilon,size,iter=30000)"
   ]
  },
  {
   "cell_type": "code",
   "execution_count": 10,
   "metadata": {
    "collapsed": false
   },
   "outputs": [
    {
     "data": {
      "text/plain": [
       "array([ 1.17074869e+00,  2.30513234e+00, -5.68114730e+00, -2.17634100e-03,\n",
       "        3.23174946e-03])"
      ]
     },
     "execution_count": 10,
     "metadata": {},
     "output_type": "execute_result"
    }
   ],
   "source": [
    "out[:,:5].mean(0)"
   ]
  }
 ],
 "metadata": {
  "kernelspec": {
   "display_name": "Python 3",
   "language": "python",
   "name": "python3"
  },
  "language_info": {
   "codemirror_mode": {
    "name": "ipython",
    "version": 3
   },
   "file_extension": ".py",
   "mimetype": "text/x-python",
   "name": "python",
   "nbconvert_exporter": "python",
   "pygments_lexer": "ipython3",
   "version": "3.5.2"
  }
 },
 "nbformat": 4,
 "nbformat_minor": 2
}
