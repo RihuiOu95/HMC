{
 "cells": [
  {
   "cell_type": "code",
   "execution_count": 2,
   "metadata": {
    "collapsed": true
   },
   "outputs": [],
   "source": [
    "import numpy as np\n",
    "from numba import jit, vectorize, float64, int64"
   ]
  },
  {
   "cell_type": "code",
   "execution_count": 3,
   "metadata": {
    "collapsed": true
   },
   "outputs": [],
   "source": [
    "import stahmctestt as stt"
   ]
  },
  {
   "cell_type": "markdown",
   "metadata": {},
   "source": [
    "## Derivation of gradient\n",
    "Prior: $\\theta\\sim N(0,1)$  \n",
    "logprior: $-(\\theta^2/2)+C$  \n",
    "gradlogprior: $-2/\\theta$  \n",
    "likelihood: $y\\sim N(x\\theta,1)$  \n",
    "loglikelihood: $-(y-x\\theta)^2/2+C$   \n",
    "gradloglikelihood: $(y-x\\theta)x$  "
   ]
  },
  {
   "cell_type": "code",
   "execution_count": 2,
   "metadata": {
    "collapsed": true
   },
   "outputs": [],
   "source": [
    "?stt.hmc_1dnb"
   ]
  },
  {
   "cell_type": "code",
   "execution_count": 4,
   "metadata": {
    "collapsed": false
   },
   "outputs": [],
   "source": [
    "#simulate data\n",
    "X=np.random.normal(loc=0,scale=1,size=[10000,1])\n",
    "y=3*X.ravel()+np.random.normal(loc=0,scale=1,size=[10000])"
   ]
  },
  {
   "cell_type": "code",
   "execution_count": 5,
   "metadata": {
    "collapsed": false
   },
   "outputs": [],
   "source": [
    "#gradient\n",
    "@jit(cache=True)\n",
    "def gradnormal(theta,X,y):  \n",
    "    \"\"\"\n",
    "    theta:p.1-1d array\n",
    "    X:n.p-2d array\n",
    "    y n.1-1d array\"\"\"\n",
    "    drll=(y-theta*X.ravel())*X.ravel()\n",
    "    drpri=-theta\n",
    "    return -drpri,-drll.mean()"
   ]
  },
  {
   "cell_type": "code",
   "execution_count": 6,
   "metadata": {
    "collapsed": false
   },
   "outputs": [],
   "source": [
    "theta0=0\n",
    "M=1\n",
    "C=1\n",
    "epsilon=.001\n",
    "out=stt.hmc_1dnb(gradnormal,X,y,theta0,M,C,epsilon,iter=20000)"
   ]
  },
  {
   "cell_type": "code",
   "execution_count": 7,
   "metadata": {
    "collapsed": false
   },
   "outputs": [
    {
     "data": {
      "text/plain": [
       "3.007230603044791"
      ]
     },
     "execution_count": 7,
     "metadata": {},
     "output_type": "execute_result"
    }
   ],
   "source": [
    "out[:,0].mean()"
   ]
  }
 ],
 "metadata": {
  "kernelspec": {
   "display_name": "Python 3",
   "language": "python",
   "name": "python3"
  },
  "language_info": {
   "codemirror_mode": {
    "name": "ipython",
    "version": 3
   },
   "file_extension": ".py",
   "mimetype": "text/x-python",
   "name": "python",
   "nbconvert_exporter": "python",
   "pygments_lexer": "ipython3",
   "version": "3.5.2"
  }
 },
 "nbformat": 4,
 "nbformat_minor": 2
}
