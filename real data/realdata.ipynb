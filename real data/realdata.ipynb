{
 "cells": [
  {
   "cell_type": "code",
   "execution_count": 1,
   "metadata": {
    "collapsed": false
   },
   "outputs": [],
   "source": [
    "import numpy as np\n",
    "from numba import jit, vectorize, float64, int64\n",
    "import pandas as pd\n",
    "import matplotlib.pyplot as plt \n",
    "import seaborn as sns\n",
    "import stahmctestt as stt #our package\n",
    "%matplotlib inline"
   ]
  },
  {
   "cell_type": "markdown",
   "metadata": {},
   "source": [
    "## Preprocessing step adapted from \n",
    "www.kaggle.com/kost13/us-income-logistic-regression"
   ]
  },
  {
   "cell_type": "code",
   "execution_count": 2,
   "metadata": {
    "collapsed": true
   },
   "outputs": [],
   "source": [
    "#read in data \n",
    "columns = ['Age','Workclass','fnlgwt','Education','Education num','Marital Status',\n",
    "           'Occupation','Relationship','Race','Sex','Capital Gain','Capital Loss',\n",
    "           'Hours/Week','Native country','Income']\n",
    "train = pd.read_csv('adult-training.csv', names=columns)\n",
    "test = pd.read_csv('adult-test.csv', names=columns, skiprows=1)"
   ]
  },
  {
   "cell_type": "code",
   "execution_count": 3,
   "metadata": {
    "collapsed": false
   },
   "outputs": [],
   "source": [
    "#transform income into catagorical outcome\n",
    "train['Income'] = train['Income'].apply(lambda x: 1 if x==' >50K' else 0)  ###transform income into catagorical outcome\n",
    "test['Income'] = test['Income'].apply(lambda x: 1 if x==' >50K.' else 0)"
   ]
  },
  {
   "cell_type": "code",
   "execution_count": 4,
   "metadata": {
    "collapsed": false
   },
   "outputs": [
    {
     "data": {
      "text/html": [
       "<div>\n",
       "<table border=\"1\" class=\"dataframe\">\n",
       "  <thead>\n",
       "    <tr style=\"text-align: right;\">\n",
       "      <th></th>\n",
       "      <th>Age</th>\n",
       "      <th>fnlgwt</th>\n",
       "      <th>Education num</th>\n",
       "      <th>Sex</th>\n",
       "      <th>Capital Gain</th>\n",
       "      <th>Capital Loss</th>\n",
       "      <th>Hours/Week</th>\n",
       "      <th>Income</th>\n",
       "    </tr>\n",
       "  </thead>\n",
       "  <tbody>\n",
       "    <tr>\n",
       "      <th>0</th>\n",
       "      <td>39</td>\n",
       "      <td>77516</td>\n",
       "      <td>13</td>\n",
       "      <td>0</td>\n",
       "      <td>2174</td>\n",
       "      <td>0</td>\n",
       "      <td>40</td>\n",
       "      <td>0</td>\n",
       "    </tr>\n",
       "    <tr>\n",
       "      <th>1</th>\n",
       "      <td>50</td>\n",
       "      <td>83311</td>\n",
       "      <td>13</td>\n",
       "      <td>0</td>\n",
       "      <td>0</td>\n",
       "      <td>0</td>\n",
       "      <td>13</td>\n",
       "      <td>0</td>\n",
       "    </tr>\n",
       "    <tr>\n",
       "      <th>2</th>\n",
       "      <td>38</td>\n",
       "      <td>215646</td>\n",
       "      <td>9</td>\n",
       "      <td>0</td>\n",
       "      <td>0</td>\n",
       "      <td>0</td>\n",
       "      <td>40</td>\n",
       "      <td>0</td>\n",
       "    </tr>\n",
       "    <tr>\n",
       "      <th>3</th>\n",
       "      <td>53</td>\n",
       "      <td>234721</td>\n",
       "      <td>7</td>\n",
       "      <td>0</td>\n",
       "      <td>0</td>\n",
       "      <td>0</td>\n",
       "      <td>40</td>\n",
       "      <td>0</td>\n",
       "    </tr>\n",
       "    <tr>\n",
       "      <th>4</th>\n",
       "      <td>28</td>\n",
       "      <td>338409</td>\n",
       "      <td>13</td>\n",
       "      <td>1</td>\n",
       "      <td>0</td>\n",
       "      <td>0</td>\n",
       "      <td>40</td>\n",
       "      <td>0</td>\n",
       "    </tr>\n",
       "  </tbody>\n",
       "</table>\n",
       "</div>"
      ],
      "text/plain": [
       "   Age  fnlgwt  Education num  Sex  Capital Gain  Capital Loss  Hours/Week  \\\n",
       "0   39   77516             13    0          2174             0          40   \n",
       "1   50   83311             13    0             0             0          13   \n",
       "2   38  215646              9    0             0             0          40   \n",
       "3   53  234721              7    0             0             0          40   \n",
       "4   28  338409             13    1             0             0          40   \n",
       "\n",
       "   Income  \n",
       "0       0  \n",
       "1       0  \n",
       "2       0  \n",
       "3       0  \n",
       "4       0  "
      ]
     },
     "execution_count": 4,
     "metadata": {},
     "output_type": "execute_result"
    }
   ],
   "source": [
    "#deal with missing data \n",
    "train.replace(' ?', np.nan, inplace=True) ###replace ? with NaN\n",
    "test.replace(' ?', np.nan, inplace=True)\n",
    "train=train.dropna()\n",
    "train=train.drop(['Workclass','Education','Marital Status','Occupation','Relationship','Native country','Race'],axis=1)\n",
    "train['Sex']=pd.factorize(train['Sex'])[0]\n",
    "test=test.dropna()\n",
    "test=test.drop(['Workclass','Education','Marital Status','Occupation','Relationship','Native country','Race'],axis=1)\n",
    "test['Sex']=pd.factorize(test['Sex'])[0]\n",
    "train.head()"
   ]
  },
  {
   "cell_type": "code",
   "execution_count": 5,
   "metadata": {
    "collapsed": false
   },
   "outputs": [
    {
     "data": {
      "text/html": [
       "<div>\n",
       "<table border=\"1\" class=\"dataframe\">\n",
       "  <thead>\n",
       "    <tr style=\"text-align: right;\">\n",
       "      <th></th>\n",
       "      <th>Age</th>\n",
       "      <th>fnlgwt</th>\n",
       "      <th>Education num</th>\n",
       "      <th>Sex</th>\n",
       "      <th>Capital Gain</th>\n",
       "      <th>Capital Loss</th>\n",
       "      <th>Hours/Week</th>\n",
       "      <th>Income</th>\n",
       "    </tr>\n",
       "  </thead>\n",
       "  <tbody>\n",
       "    <tr>\n",
       "      <th>0</th>\n",
       "      <td>25</td>\n",
       "      <td>226802</td>\n",
       "      <td>7</td>\n",
       "      <td>0</td>\n",
       "      <td>0</td>\n",
       "      <td>0</td>\n",
       "      <td>40</td>\n",
       "      <td>0</td>\n",
       "    </tr>\n",
       "    <tr>\n",
       "      <th>1</th>\n",
       "      <td>38</td>\n",
       "      <td>89814</td>\n",
       "      <td>9</td>\n",
       "      <td>0</td>\n",
       "      <td>0</td>\n",
       "      <td>0</td>\n",
       "      <td>50</td>\n",
       "      <td>0</td>\n",
       "    </tr>\n",
       "    <tr>\n",
       "      <th>2</th>\n",
       "      <td>28</td>\n",
       "      <td>336951</td>\n",
       "      <td>12</td>\n",
       "      <td>0</td>\n",
       "      <td>0</td>\n",
       "      <td>0</td>\n",
       "      <td>40</td>\n",
       "      <td>1</td>\n",
       "    </tr>\n",
       "    <tr>\n",
       "      <th>3</th>\n",
       "      <td>44</td>\n",
       "      <td>160323</td>\n",
       "      <td>10</td>\n",
       "      <td>0</td>\n",
       "      <td>7688</td>\n",
       "      <td>0</td>\n",
       "      <td>40</td>\n",
       "      <td>1</td>\n",
       "    </tr>\n",
       "    <tr>\n",
       "      <th>5</th>\n",
       "      <td>34</td>\n",
       "      <td>198693</td>\n",
       "      <td>6</td>\n",
       "      <td>0</td>\n",
       "      <td>0</td>\n",
       "      <td>0</td>\n",
       "      <td>30</td>\n",
       "      <td>0</td>\n",
       "    </tr>\n",
       "  </tbody>\n",
       "</table>\n",
       "</div>"
      ],
      "text/plain": [
       "   Age  fnlgwt  Education num  Sex  Capital Gain  Capital Loss  Hours/Week  \\\n",
       "0   25  226802              7    0             0             0          40   \n",
       "1   38   89814              9    0             0             0          50   \n",
       "2   28  336951             12    0             0             0          40   \n",
       "3   44  160323             10    0          7688             0          40   \n",
       "5   34  198693              6    0             0             0          30   \n",
       "\n",
       "   Income  \n",
       "0       0  \n",
       "1       0  \n",
       "2       1  \n",
       "3       1  \n",
       "5       0  "
      ]
     },
     "execution_count": 5,
     "metadata": {},
     "output_type": "execute_result"
    }
   ],
   "source": [
    "test.head()"
   ]
  },
  {
   "cell_type": "code",
   "execution_count": 6,
   "metadata": {
    "collapsed": false
   },
   "outputs": [],
   "source": [
    "#devide data into predictor and outcome\n",
    "ytrain = train['Income']\n",
    "Xtrain = train.drop('Income', axis=1)\n",
    "ytest = test['Income']\n",
    "Xtest = test.drop('Income', axis=1)"
   ]
  },
  {
   "cell_type": "code",
   "execution_count": 7,
   "metadata": {
    "collapsed": true
   },
   "outputs": [],
   "source": [
    "def norma(x):\n",
    "    \"\"\"this is the function used to normalize continuous predictor\"\"\"\n",
    "    return (x-x.mean())/x.std()"
   ]
  },
  {
   "cell_type": "code",
   "execution_count": 8,
   "metadata": {
    "collapsed": true
   },
   "outputs": [],
   "source": [
    "#normalize training\n",
    "Xtrain['fnlgwt']=norma(Xtrain['fnlgwt'])\n",
    "Xtrain['Capital Gain']=norma(Xtrain['Capital Gain'])\n",
    "Xtrain['Capital Loss']=norma(Xtrain['Capital Loss'])\n",
    "Xtrain['Age']=norma(Xtrain['Age'])\n",
    "Xtrain['Education num']=norma(Xtrain['Education num'])\n",
    "Xtrain['Hours/Week']=norma(Xtrain['Hours/Week'])"
   ]
  },
  {
   "cell_type": "code",
   "execution_count": 9,
   "metadata": {
    "collapsed": true
   },
   "outputs": [],
   "source": [
    "#normalize test\n",
    "Xtest['fnlgwt']=norma(Xtest['fnlgwt'])\n",
    "Xtest['Capital Gain']=norma(Xtest['Capital Gain'])\n",
    "Xtest['Capital Loss']=norma(Xtest['Capital Loss'])\n",
    "Xtest['Age']=norma(Xtest['Age'])\n",
    "Xtest['Education num']=norma(Xtest['Education num'])\n",
    "Xtest['Hours/Week']=norma(Xtest['Hours/Week'])"
   ]
  },
  {
   "cell_type": "markdown",
   "metadata": {},
   "source": [
    "## Analysis Part"
   ]
  },
  {
   "cell_type": "code",
   "execution_count": 10,
   "metadata": {
    "collapsed": false
   },
   "outputs": [],
   "source": [
    "#define the gradient function for logistic regression\n",
    "#derivation refer to hdeg.ipynb\n",
    "@jit(cache=True)\n",
    "def gradlogistic(theta,X,y):  \n",
    "    \"\"\"\n",
    "    theta:p.1-1d array\n",
    "    X:n.p-2d array\n",
    "    y n.1-1d array\"\"\"\n",
    "    drll=np.diag(y-1/(1+np.exp(-X@theta)))@X\n",
    "    drpri=-np.linalg.solve(np.diag([16,16,16,16,16,16,16]),theta)\n",
    "    return -drpri,-drll.mean(axis=0)"
   ]
  },
  {
   "cell_type": "code",
   "execution_count": 11,
   "metadata": {
    "collapsed": true
   },
   "outputs": [],
   "source": [
    "#the posterior sampler using sgld \n",
    "@jit([float64[:,:](float64[:,:],float64[:],float64[:],float64[:,:],float64[:,:],float64, int64,int64)],cache=True)\n",
    "def sgld_nbvec(X,y,theta0,M,C,epsilon,batchsize=50,iter=1000):\n",
    "    \"\"\"\n",
    "    This function outputs the p dimiension posterior samples with sgld algorithm.    \n",
    "    Args: \n",
    "        X:n.p-2d array\n",
    "        y n.1-1d array\n",
    "        theta0: the initial point of theta, the parameter of interest\n",
    "        grad: the gradient of the potential\n",
    "        M: the mass\n",
    "        C: the C term, where C*M^{-1} is the friction\n",
    "        epsilon: stepsize\n",
    "        p: the dimension of theta\n",
    "        batchsize: the number of minibatch used\n",
    "        iter: iteration number, 1000 by default\n",
    "    \"\"\"\n",
    "    n=y.size\n",
    "    T=X.shape[0]\n",
    "    p=theta0.shape[0]\n",
    "    theta=theta0\n",
    "    theta_save=np.zeros([iter,p])\n",
    "    for t in range(iter):    \n",
    "        batch=np.random.choice(n,batchsize,replace=False)\n",
    "        pr,ll=gradlogistic(theta,X[batch,:],y[batch])\n",
    "        theta=theta-(pr+T*ll)*epsilon+np.random.multivariate_normal(np.zeros(p),2*epsilon*np.identity(p),1).ravel()\n",
    "        theta_save[t,:]=theta\n",
    "    return theta_save"
   ]
  },
  {
   "cell_type": "code",
   "execution_count": 12,
   "metadata": {
    "collapsed": true
   },
   "outputs": [],
   "source": [
    "#the posterior sampler using sg HMC without M-H\n",
    "@jit([float64[:,:](float64[:,:],float64[:],float64[:],float64[:,:],float64[:,:],float64, int64,int64)],cache=True)\n",
    "def sgd_nbvec(X,y,theta0,M,C,epsilon,batchsize=50,iter=1000):\n",
    "    \"\"\"\n",
    "    This function outputs the p dimiension stochatic gradient Hamilton Monte Carlo samples without M-H correction.    \n",
    "    Args: \n",
    "        X:n.p-2d array\n",
    "        y n.1-1d array\n",
    "        theta0: the initial point of theta, the parameter of interest\n",
    "        grad: the gradient of the potential\n",
    "        M: the mass\n",
    "        C: the C term, where C*M^{-1} is the friction\n",
    "        epsilon: stepsize\n",
    "        p: the dimension of theta\n",
    "        batchsize: the number of minibatch used\n",
    "        iter: iteration number, 1000 by default\n",
    "    \"\"\"\n",
    "    n=y.size\n",
    "    p=theta0.shape[0]\n",
    "    T=X.shape[0]\n",
    "    r=np.random.multivariate_normal(np.zeros(p),M)\n",
    "    theta=theta0\n",
    "    theta_save=np.zeros([iter,p])\n",
    "    r_save=np.zeros([iter,p])\n",
    "    for t in range(iter):\n",
    "        r=np.random.multivariate_normal(np.zeros(p),M)\n",
    "        for i in range(1):\n",
    "            mr=np.linalg.solve(M,r)\n",
    "            theta=theta+epsilon*mr\n",
    "            batch=np.random.choice(n,batchsize,replace=False)\n",
    "            pr,ll=gradlogistic(theta,X[batch,:],y[batch])\n",
    "            r=r-(pr+T*ll)*epsilon\n",
    "        theta_save[t,:]=theta\n",
    "        r_save[t,:]=r\n",
    "    return theta_save"
   ]
  },
  {
   "cell_type": "code",
   "execution_count": 13,
   "metadata": {
    "collapsed": false
   },
   "outputs": [],
   "source": [
    "#draw from the posterior\n",
    "theta0=np.zeros(7)\n",
    "M=C=np.identity(7)\n",
    "epsilon=.001\n",
    "size=200\n",
    "out_sghmc=stt.hmc_nbvec(gradlogistic,Xtrain.as_matrix(),ytrain.as_matrix(),theta0,M,C,epsilon,size,iter=5000)[:,:7]\n",
    "out_sgld=sgld_nbvec(Xtrain.as_matrix(),ytrain.as_matrix(),theta0,M,C,epsilon,size,iter=5000)\n",
    "out_hmcnomh=sgd_nbvec(Xtrain.as_matrix(),ytrain.as_matrix(),theta0,M,C,epsilon,size,iter=5000)"
   ]
  },
  {
   "cell_type": "code",
   "execution_count": 14,
   "metadata": {
    "collapsed": false
   },
   "outputs": [],
   "source": [
    "#use posterior predictive for prediction\n",
    "def gen_testplot(out_sghmc,out_sgld,out_hmcnomh,X_test,y_test,points=[100,200,300,400,500,800,1000,1500,2000,2500,3000,3500,4500,5000]):\n",
    "    \"\"\"This function plots test error vs iteration number using the outputs of samplers    \n",
    "    Args:\n",
    "        out_sghmc: the output of SGHMC sampler\n",
    "        out_sgld: the output of SGLD sampler\n",
    "        X_test: the X of the test set\n",
    "        y_test: the y of the test set\n",
    "        points: the points to record test error\n",
    "        \"\"\"\n",
    "    sghmcerr=[1-np.mean(np.random.binomial(n=1,p=1/(1+np.exp(-(X_test @ out_sghmc[:point,:].T))))==y_test[:,None]) for point in points]\n",
    "    sglderr=[1-np.mean(np.random.binomial(n=1,p=1/(1+np.exp(-(X_test @ out_sgld[:point,:].T))))==y_test[:,None]) for point in points]\n",
    "    hmcnomherr=[1-np.mean(np.random.binomial(n=1,p=1/(1+np.exp(-(X_test @ out_hmcnomh[:point,:].T))))==y_test[:,None]) for point in points]\n",
    "    plt.plot(points,sghmcerr)\n",
    "    plt.plot(points,sglderr)\n",
    "    plt.plot(points,hmcnomherr)\n",
    "    plt.legend(['sghmc','sgld','HMC without M-H'])\n",
    "    plt.title('Test Error vs Iteration Number (Real Data)')\n",
    "    plt.ylabel('Test Error')\n",
    "    plt.xlabel('Iteration Number')\n",
    "    pass"
   ]
  },
  {
   "cell_type": "code",
   "execution_count": 15,
   "metadata": {
    "collapsed": false
   },
   "outputs": [
    {
     "name": "stderr",
     "output_type": "stream",
     "text": [
      "/opt/conda/lib/python3.5/site-packages/matplotlib/font_manager.py:1241: UserWarning: findfont: Font family ['sans-serif'] not found. Falling back to DejaVu Sans.\n",
      "  (prop.get_family(), self.defaultFamily[fontext]))\n"
     ]
    },
    {
     "data": {
      "image/png": "[encoded data removed]",
      "text/plain": [
       "<Figure size 432x288 with 1 Axes>"
      ]
     },
     "metadata": {},
     "output_type": "display_data"
    }
   ],
   "source": [
    "gen_testplot(out_sghmc,out_sgld,out_hmcnomh,Xtest.as_matrix(),ytest.as_matrix())"
   ]
  },
  {
   "cell_type": "code",
   "execution_count": null,
   "metadata": {
    "collapsed": true
   },
   "outputs": [],
   "source": []
  }
 ],
 "metadata": {
  "kernelspec": {
   "display_name": "Python 3",
   "language": "python",
   "name": "python3"
  },
  "language_info": {
   "codemirror_mode": {
    "name": "ipython",
    "version": 3
   },
   "file_extension": ".py",
   "mimetype": "text/x-python",
   "name": "python",
   "nbconvert_exporter": "python",
   "pygments_lexer": "ipython3",
   "version": "3.5.2"
  }
 },
 "nbformat": 4,
 "nbformat_minor": 2
}
