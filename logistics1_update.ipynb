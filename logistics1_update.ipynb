{
 "cells": [
  {
   "cell_type": "code",
   "execution_count": 2,
   "metadata": {
    "collapsed": true
   },
   "outputs": [],
   "source": [
    "import numpy as np\n",
    "from functools import partial\n",
    "import math\n",
    "import matplotlib.pyplot as plt\n",
    "import seaborn as sns\n",
    "from sklearn.datasets import make_blobs \n",
    "from numba import jit, vectorize, float64, int64\n",
    "%matplotlib inline"
   ]
  },
  {
   "cell_type": "markdown",
   "metadata": {},
   "source": [
    "## SGHMC"
   ]
  },
  {
   "cell_type": "code",
   "execution_count": 3,
   "metadata": {
    "collapsed": true
   },
   "outputs": [],
   "source": [
    "def hmc_1d(theta0,grad,M,C,epsilon,iter=1000):\n",
    "    \"\"\"\n",
    "    This function outputs the 1 dimiension Hamilton Monte Carlo samples without M-H correction.\n",
    "    \n",
    "    Args: \n",
    "        theta0: the initial point of theta, the parameter of interest\n",
    "        grad: the gradient of the potential\n",
    "        M: the mass\n",
    "        C: the C term, where C*M^{-1} is the friction\n",
    "        epsilon: stepsize\n",
    "        iter: iteration number, 1000 by default\n",
    "    \"\"\"\n",
    "    r=np.random.normal(0,np.sqrt(M))\n",
    "    theta=theta0\n",
    "    theta_save=np.zeros(iter)\n",
    "    r_save=np.zeros(iter)\n",
    "    for t in range(iter):\n",
    "        theta=theta+epsilon*r/M\n",
    "        r=r-grad(theta)*epsilon-epsilon*C*r/M+np.random.normal(0,np.sqrt(2*epsilon*C))\n",
    "        theta_save[t]=theta\n",
    "        r_save[t]=r\n",
    "    return theta_save,r_save"
   ]
  },
  {
   "cell_type": "code",
   "execution_count": 4,
   "metadata": {
    "collapsed": false
   },
   "outputs": [
    {
     "name": "stderr",
     "output_type": "stream",
     "text": [
      "/opt/conda/lib/python3.5/site-packages/statsmodels/nonparametric/kdetools.py:20: VisibleDeprecationWarning: using a non-integer number instead of an integer will result in an error in the future\n",
      "  y = X[:m/2+1] + np.r_[0,X[m/2+1:],0]*1j\n"
     ]
    },
    {
     "data": {
      "image/png": "[encoded data removed]",
      "text/plain": [
       "<matplotlib.figure.Figure at 0x7f630c421d30>"
      ]
     },
     "metadata": {},
     "output_type": "display_data"
    }
   ],
   "source": [
    "#####Rerun the example in Figure 1#####\n",
    "theta0=0\n",
    "M=1\n",
    "C=1\n",
    "grad=lambda theta: -4*theta+4*theta**3\n",
    "epsilon=.1\n",
    "iter=1000\n",
    "theta_save,r_save=hmc_1d(theta0,grad,M,C,epsilon,iter=300000)\n",
    "sns.kdeplot(theta_save)\n",
    "pass"
   ]
  },
  {
   "cell_type": "code",
   "execution_count": null,
   "metadata": {
    "collapsed": true
   },
   "outputs": [],
   "source": []
  },
  {
   "cell_type": "code",
   "execution_count": null,
   "metadata": {
    "collapsed": true
   },
   "outputs": [],
   "source": []
  },
  {
   "cell_type": "code",
   "execution_count": null,
   "metadata": {
    "collapsed": true
   },
   "outputs": [],
   "source": []
  },
  {
   "cell_type": "markdown",
   "metadata": {},
   "source": [
    "## The HMC function that incorporates data\n",
    "#### Combine real data    \n",
    "$U(\\theta)=log(p(\\theta|D)+log(p(\\theta))$"
   ]
  },
  {
   "cell_type": "markdown",
   "metadata": {},
   "source": [
    "Assume here the prior for $\\theta$ $N(0,diag(2^2,4^2,5^2,0.1^2,0.1^2))$"
   ]
  },
  {
   "cell_type": "markdown",
   "metadata": {},
   "source": [
    "$log(p(\\theta|D_i)=y_ilogp+(1-y_i)log(1-p)=y_ilog(p/1-p)+log(1-p)=y_iX_i'\\theta+log(\\frac{1}{1+exp(X_i'\\theta)})$   \n",
    "\n",
    "$\\frac{\\partial log(p(\\theta|D_i)}{\\partial \\theta}=y_iX_i-\\frac{exp(X_i'\\theta)}{1+exp(X_i'\\theta)}X_i$\n",
    "     \n",
    "$log(p(\\theta))=-1/2 \\theta' V^{-1} \\theta+C$   \n",
    "\n",
    "$\\frac{\\partial log(p(\\theta))}{\\partial \\theta}=- V^{-1} \\theta$   "
   ]
  },
  {
   "cell_type": "code",
   "execution_count": 120,
   "metadata": {
    "collapsed": true
   },
   "outputs": [],
   "source": [
    "@jit(cache=True)\n",
    "def gradlogistic(theta,X,y):  \n",
    "    \"\"\"\n",
    "    theta:p.1-1d array\n",
    "    X:n.p-2d array\n",
    "    y n.1-1d array\"\"\"\n",
    "    drll=np.diag(y-1/(1+np.exp(-X@theta)))@X\n",
    "    drpri=-np.linalg.solve(np.diag([16,16,16,16,16]),theta)\n",
    "    return -(drpri+drll.mean(axis=0))"
   ]
  },
  {
   "cell_type": "code",
   "execution_count": 121,
   "metadata": {
    "collapsed": false
   },
   "outputs": [
    {
     "data": {
      "text/plain": [
       "array([ 0.01767643,  0.1843431 ,  0.1843431 ,  0.1843431 ,  0.1843431 ])"
      ]
     },
     "execution_count": 121,
     "metadata": {},
     "output_type": "execute_result"
    }
   ],
   "source": [
    "gradlogistic(np.array([1,1,1,1,1]),np.eye(6,5),np.array([1,0,0,0,0,1]))"
   ]
  },
  {
   "cell_type": "code",
   "execution_count": 122,
   "metadata": {
    "collapsed": false
   },
   "outputs": [],
   "source": [
    "@jit([float64[:,:](float64[:,:],float64[:],float64[:],float64[:,:],float64[:,:],float64, int64,int64)],cache=True)\n",
    "def hmc_nbvec(X,y,theta0,M,C,epsilon,batchsize=50,iter=1000):\n",
    "    \"\"\"\n",
    "    This function outputs the p dimiension Hamilton Monte Carlo samples without M-H correction.    \n",
    "    Args: \n",
    "        X:n.p-2d array\n",
    "        y n.1-1d array\n",
    "        theta0: the initial point of theta, the parameter of interest\n",
    "        grad: the gradient of the potential\n",
    "        M: the mass\n",
    "        C: the C term, where C*M^{-1} is the friction\n",
    "        epsilon: stepsize\n",
    "        p: the dimension of theta\n",
    "        batchsize: the number of minibatch used\n",
    "        iter: iteration number, 1000 by default\n",
    "    \"\"\"\n",
    "    n=y.size\n",
    "    T=X.shape[0]\n",
    "    p=theta0.shape[0]\n",
    "    r=np.random.multivariate_normal(np.zeros(p),M)\n",
    "    theta=theta0\n",
    "    theta_save=np.zeros([iter,p])\n",
    "    r_save=np.zeros([iter,p])\n",
    "    for t in range(iter):    \n",
    "        mr=np.linalg.solve(M,r)\n",
    "        theta=theta+epsilon*mr\n",
    "        batch=np.random.choice(n,batchsize,replace=False)\n",
    "        r=r-T*gradlogistic(theta,X[batch,:],y[batch])*epsilon-epsilon*np.dot(C,mr)+np.random.multivariate_normal(np.zeros(p),2*epsilon*C,1).ravel()\n",
    "        theta_save[t,:]=theta\n",
    "        r_save[t,:]=r\n",
    "    return np.c_[theta_save,r_save]"
   ]
  },
  {
   "cell_type": "code",
   "execution_count": 75,
   "metadata": {
    "collapsed": true
   },
   "outputs": [],
   "source": [
    "###simulate data\n",
    "def sim_log(m,n,theta):\n",
    "    \"\"\"This function outputs a simulated logistics regression dataset X and y. \n",
    "       X is a matrix of size m by n. Every entry of X is i.i.d N(0,1).\n",
    "    Args:\n",
    "        m: the number of rows in X\n",
    "        n: the number of columns in X\n",
    "        beta: a n by 1 vector, the true beta in the model\n",
    "    \"\"\"\n",
    "    X=5*np.random.normal(loc=0,scale=1,size=[m,n])\n",
    "    y=np.random.binomial(n=1,p=1/(1+np.exp(-(X @ theta))))\n",
    "    return X,y"
   ]
  },
  {
   "cell_type": "code",
   "execution_count": 123,
   "metadata": {
    "collapsed": false
   },
   "outputs": [],
   "source": [
    "theta=np.array([-10,25,5,0,0])\n",
    "X,y=sim_log(30000,5,theta)"
   ]
  },
  {
   "cell_type": "code",
   "execution_count": 124,
   "metadata": {
    "collapsed": false
   },
   "outputs": [
    {
     "data": {
      "text/plain": [
       "array([[ -5.24620016e+00,   1.31634856e+01,   2.61400225e+00,\n",
       "         -9.68023609e-04,  -4.06010235e-03]])"
      ]
     },
     "execution_count": 124,
     "metadata": {},
     "output_type": "execute_result"
    }
   ],
   "source": [
    "from sklearn.linear_model import LogisticRegression\n",
    "\n",
    "clf = LogisticRegression().fit(X, y)\n",
    "clf.coef_"
   ]
  },
  {
   "cell_type": "code",
   "execution_count": 125,
   "metadata": {
    "collapsed": false
   },
   "outputs": [
    {
     "name": "stderr",
     "output_type": "stream",
     "text": [
      "/opt/conda/lib/python3.5/site-packages/ipykernel_launcher.py:5: RuntimeWarning: overflow encountered in exp\n",
      "  \"\"\"\n"
     ]
    }
   ],
   "source": [
    "theta0=np.zeros(5)\n",
    "M=C=.001*np.identity(5)\n",
    "epsilon=.001\n",
    "size=300\n",
    "out=hmc_nbvec(X,y,theta0,M,C,epsilon,size,iter=4000)"
   ]
  },
  {
   "cell_type": "code",
   "execution_count": 126,
   "metadata": {
    "collapsed": false
   },
   "outputs": [
    {
     "data": {
      "text/plain": [
       "array([-10.6982474 ,  27.88503373,   5.77315942,  -0.24045854,  -0.28012384])"
      ]
     },
     "execution_count": 126,
     "metadata": {},
     "output_type": "execute_result"
    }
   ],
   "source": [
    "out[1000:,:5].mean(0)"
   ]
  },
  {
   "cell_type": "markdown",
   "metadata": {
    "collapsed": true
   },
   "source": [
    "## SGLD"
   ]
  },
  {
   "cell_type": "code",
   "execution_count": 91,
   "metadata": {
    "collapsed": true
   },
   "outputs": [],
   "source": [
    "@jit([float64[:,:](float64[:,:],float64[:],float64[:],float64[:,:],float64[:,:],float64, int64,int64)],cache=True)\n",
    "def sgld_nbvec(X,y,theta0,M,C,epsilon,batchsize=50,iter=1000):\n",
    "    \"\"\"\n",
    "    This function outputs the p dimiension Hamilton Monte Carlo samples without M-H correction.    \n",
    "    Args: \n",
    "        X:n.p-2d array\n",
    "        y n.1-1d array\n",
    "        theta0: the initial point of theta, the parameter of interest\n",
    "        grad: the gradient of the potential\n",
    "        M: the mass\n",
    "        C: the C term, where C*M^{-1} is the friction\n",
    "        epsilon: stepsize\n",
    "        p: the dimension of theta\n",
    "        batchsize: the number of minibatch used\n",
    "        iter: iteration number, 1000 by default\n",
    "    \"\"\"\n",
    "    n=y.size\n",
    "    T=X.shape[0]\n",
    "    p=theta0.shape[0]\n",
    "    theta=theta0\n",
    "    theta_save=np.zeros([iter,p])\n",
    "    for t in range(iter):    \n",
    "        batch=np.random.choice(n,batchsize,replace=False)\n",
    "        theta=theta-T*gradlogistic(theta,X[batch,:],y[batch])*epsilon+np.random.multivariate_normal(np.zeros(p),2*epsilon*np.identity(p),1).ravel()\n",
    "        theta_save[t,:]=theta\n",
    "    return theta_save"
   ]
  },
  {
   "cell_type": "code",
   "execution_count": 106,
   "metadata": {
    "collapsed": false
   },
   "outputs": [
    {
     "name": "stderr",
     "output_type": "stream",
     "text": [
      "/opt/conda/lib/python3.5/site-packages/ipykernel_launcher.py:5: RuntimeWarning: overflow encountered in exp\n",
      "  \"\"\"\n"
     ]
    }
   ],
   "source": [
    "theta0=np.zeros(5)\n",
    "M=C=np.identity(5)\n",
    "epsilon=.001\n",
    "size=300\n",
    "out=sgld_nbvec(X,y,theta0,M,C,epsilon,size,iter=4000)"
   ]
  },
  {
   "cell_type": "code",
   "execution_count": 107,
   "metadata": {
    "collapsed": false
   },
   "outputs": [
    {
     "data": {
      "text/plain": [
       "array([-11.59194921,  27.55566665,   5.03603019,   3.55927103,  -0.18496355])"
      ]
     },
     "execution_count": 107,
     "metadata": {},
     "output_type": "execute_result"
    }
   ],
   "source": [
    "out.mean(0)"
   ]
  },
  {
   "cell_type": "code",
   "execution_count": 94,
   "metadata": {
    "collapsed": false
   },
   "outputs": [
    {
     "data": {
      "text/plain": [
       "30000"
      ]
     },
     "execution_count": 94,
     "metadata": {},
     "output_type": "execute_result"
    }
   ],
   "source": [
    "X.shape[0]"
   ]
  },
  {
   "cell_type": "code",
   "execution_count": null,
   "metadata": {
    "collapsed": true
   },
   "outputs": [],
   "source": []
  }
 ],
 "metadata": {
  "kernelspec": {
   "display_name": "Python 3",
   "language": "python",
   "name": "python3"
  },
  "language_info": {
   "codemirror_mode": {
    "name": "ipython",
    "version": 3
   },
   "file_extension": ".py",
   "mimetype": "text/x-python",
   "name": "python",
   "nbconvert_exporter": "python",
   "pygments_lexer": "ipython3",
   "version": "3.5.2"
  }
 },
 "nbformat": 4,
 "nbformat_minor": 2
}
