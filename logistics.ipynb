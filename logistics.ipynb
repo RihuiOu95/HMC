{
 "cells": [
  {
   "cell_type": "code",
   "execution_count": 413,
   "metadata": {
    "collapsed": true
   },
   "outputs": [],
   "source": [
    "import numpy as np\n",
    "import seaborn as sns\n",
    "from functools import partial"
   ]
  },
  {
   "cell_type": "markdown",
   "metadata": {},
   "source": [
    "## SGHMC"
   ]
  },
  {
   "cell_type": "code",
   "execution_count": 284,
   "metadata": {
    "collapsed": true
   },
   "outputs": [],
   "source": [
    "def hmc_1d(theta0,grad,M,C,epsilon,iter=1000):\n",
    "    \"\"\"\n",
    "    This function outputs the 1 dimiension Hamilton Monte Carlo samples without M-H correction.\n",
    "    \n",
    "    Args: \n",
    "        theta0: the initial point of theta, the parameter of interest\n",
    "        grad: the gradient of the potential\n",
    "        M: the mass\n",
    "        C: the C term, where C*M^{-1} is the friction\n",
    "        epsilon: stepsize\n",
    "        iter: iteration number, 1000 by default\n",
    "    \"\"\"\n",
    "    r=np.random.normal(0,np.sqrt(M))\n",
    "    theta=theta0\n",
    "    theta_save=np.zeros(iter)\n",
    "    r_save=np.zeros(iter)\n",
    "    for t in range(iter):\n",
    "        theta=theta+epsilon*r/M\n",
    "        r=r-grad(theta)*epsilon-epsilon*C*r/M+np.random.normal(0,np.sqrt(2*epsilon*C))\n",
    "        theta_save[t]=theta\n",
    "        r_save[t]=r\n",
    "    return theta_save,r_save"
   ]
  },
  {
   "cell_type": "code",
   "execution_count": 287,
   "metadata": {
    "collapsed": false
   },
   "outputs": [
    {
     "name": "stderr",
     "output_type": "stream",
     "text": [
      "/opt/conda/lib/python3.5/site-packages/statsmodels/nonparametric/kdetools.py:20: VisibleDeprecationWarning: using a non-integer number instead of an integer will result in an error in the future\n",
      "  y = X[:m/2+1] + np.r_[0,X[m/2+1:],0]*1j\n"
     ]
    },
    {
     "data": {
      "image/png": "[encoded data removed]",
      "text/plain": [
       "<matplotlib.figure.Figure at 0x7f610691f400>"
      ]
     },
     "metadata": {},
     "output_type": "display_data"
    }
   ],
   "source": [
    "#####Rerun the example in Figure 1#####\n",
    "theta0=0\n",
    "M=1\n",
    "C=1\n",
    "grad=lambda theta: -4*theta+4*theta**3\n",
    "epsilon=.1\n",
    "iter=1000\n",
    "theta_save,r_save=hmc_1d(theta0,grad,M,C,epsilon,iter=300000)\n",
    "sns.kdeplot(theta_save)\n",
    "pass"
   ]
  },
  {
   "cell_type": "code",
   "execution_count": 300,
   "metadata": {
    "collapsed": false
   },
   "outputs": [],
   "source": [
    "def hmc(theta0,grad,M,C,epsilon,p,iter=1000):\n",
    "    \"\"\"\n",
    "    This function outputs the p dimiension Hamilton Monte Carlo samples without M-H correction.    \n",
    "    Args: \n",
    "        theta0: the initial point of theta, the parameter of interest\n",
    "        grad: the gradient of the potential\n",
    "        M: the mass\n",
    "        C: the C term, where C*M^{-1} is the friction\n",
    "        epsilon: stepsize\n",
    "        p: the dimension of theta\n",
    "        iter: iteration number, 1000 by default\n",
    "    \"\"\"\n",
    "    r=np.random.multivariate_normal(np.zeros(p),M).reshape(p,1)\n",
    "    theta=theta0\n",
    "    theta_save=np.zeros([p,iter])\n",
    "    r_save=np.zeros([p,iter])\n",
    "    for t in range(iter):    \n",
    "        theta=theta+epsilon*(np.linalg.inv(M) @ r)\n",
    "        r=r-grad(theta)*epsilon-epsilon*(C @ np.linalg.inv(M) @ r)+np.random.multivariate_normal(np.zeros(p),2*epsilon*C,1).T\n",
    "        theta_save[:,t]=theta.ravel()\n",
    "        r_save[:,t]=r.ravel()\n",
    "    return theta_save,r_save"
   ]
  },
  {
   "cell_type": "code",
   "execution_count": 301,
   "metadata": {
    "collapsed": false
   },
   "outputs": [],
   "source": [
    "###Rerun the example in Figure 3\n",
    "theta0=np.zeros(2).reshape([2,1])\n",
    "M=np.array([[1,0],[0,1]])\n",
    "C=np.array([[1,0],[0,1]])\n",
    "grad=lambda theta:  np.linalg.inv(np.array([[1,.9],[.9,1]])) @ theta\n",
    "epsilon=.1\n",
    "iter=30000\n",
    "theta_save, r_save=hmc(theta0,grad,M,C,epsilon,2,iter=30000)"
   ]
  },
  {
   "cell_type": "code",
   "execution_count": 302,
   "metadata": {
    "collapsed": false
   },
   "outputs": [
    {
     "data": {
      "text/plain": [
       "array([[ 1.        ,  0.90222882],\n",
       "       [ 0.90222882,  1.        ]])"
      ]
     },
     "execution_count": 302,
     "metadata": {},
     "output_type": "execute_result"
    }
   ],
   "source": [
    "np.corrcoef(theta_save[0,:],theta_save[1,:])"
   ]
  },
  {
   "cell_type": "code",
   "execution_count": null,
   "metadata": {
    "collapsed": true
   },
   "outputs": [],
   "source": [
    "####Logistics Regression"
   ]
  },
  {
   "cell_type": "code",
   "execution_count": 414,
   "metadata": {
    "collapsed": false
   },
   "outputs": [],
   "source": [
    "###simulate data\n",
    "def sim_log(m,n,theta):\n",
    "    \"\"\"This function outputs a simulated logistics regression dataset X and y. \n",
    "       X is a matrix of size m by n. Every entry of X is i.i.d N(0,1).\n",
    "    Args:\n",
    "        m: the number of rows in X\n",
    "        n: the number of columns in X\n",
    "        beta: a n by 1 vector, the true beta in the model\n",
    "    \"\"\"\n",
    "    X=np.random.normal(loc=0,scale=1,size=[m,n])\n",
    "    y=np.random.binomial(n=1,p=1/(1+np.exp(-(X @ theta))))\n",
    "    return X,y"
   ]
  },
  {
   "cell_type": "code",
   "execution_count": 415,
   "metadata": {
    "collapsed": true
   },
   "outputs": [],
   "source": [
    "def grad_est_logit(theta,size,X,y):\n",
    "    \"\"\"Return the noisy estimated gradient at theta by a size S uniform subsample.\n",
    "    Args:\n",
    "        size: the subsample size\n",
    "        X,y: the dataset\n",
    "    \"\"\"\n",
    "    T=X.shape[0]\n",
    "    p=X.shape[1]\n",
    "    indice=np.random.choice(np.arange(T),size,replace=False)\n",
    "    return -(np.diagflat((y[indice]-1/(1+np.exp(-X[indice,:] @ theta)))) @ X[indice,:]).mean(0).reshape([p,1])*T"
   ]
  },
  {
   "cell_type": "code",
   "execution_count": 416,
   "metadata": {
    "collapsed": false
   },
   "outputs": [],
   "source": [
    "theta=np.array([10,20,-10,0,0]).reshape([5,1])\n",
    "X,y=sim_log(20000,5,theta)"
   ]
  },
  {
   "cell_type": "code",
   "execution_count": 410,
   "metadata": {
    "collapsed": true
   },
   "outputs": [],
   "source": [
    "def sghmc_logit(X,y,theta0,M,C,epsilon,size,iter=1000):\n",
    "    p=X.shape[1]\n",
    "    T=X.shape[0]\n",
    "    r=np.random.multivariate_normal(np.zeros(p),M).reshape(p,1)\n",
    "    theta=theta0\n",
    "    theta_save=np.zeros([p,iter])\n",
    "    r_save=np.zeros([p,iter])\n",
    "    for t in range(iter):    \n",
    "        theta=theta+epsilon*(np.linalg.inv(M) @ r)\n",
    "        r=r-grad_est_logit(theta,size,X,y)*epsilon-epsilon*(C @ np.linalg.inv(M) @ r)+np.random.multivariate_normal(np.zeros(p),2*epsilon*C,1).T\n",
    "        theta_save[:,t]=theta.ravel()\n",
    "        r_save[:,t]=r.ravel()\n",
    "    return theta_save,r_save"
   ]
  },
  {
   "cell_type": "code",
   "execution_count": 411,
   "metadata": {
    "collapsed": false
   },
   "outputs": [
    {
     "name": "stderr",
     "output_type": "stream",
     "text": [
      "/opt/conda/lib/python3.5/site-packages/ipykernel_launcher.py:10: RuntimeWarning: overflow encountered in exp\n",
      "  # Remove the CWD from sys.path while we load stuff.\n"
     ]
    }
   ],
   "source": [
    "theta0=np.zeros(5).reshape([5,1])\n",
    "M=C=np.identity(5)\n",
    "epsilon=.1\n",
    "size=2000\n",
    "theta_save,r_save=sghmc_logit(X,y,theta0,M,C,epsilon,size,iter=1000)"
   ]
  },
  {
   "cell_type": "code",
   "execution_count": 412,
   "metadata": {
    "collapsed": false
   },
   "outputs": [
    {
     "data": {
      "text/plain": [
       "array([  80.86884656,  161.50431955,  -81.46441643,    0.33785288,\n",
       "         -0.26357259])"
      ]
     },
     "execution_count": 412,
     "metadata": {},
     "output_type": "execute_result"
    }
   ],
   "source": [
    "theta_save.mean(1)"
   ]
  },
  {
   "cell_type": "code",
   "execution_count": null,
   "metadata": {
    "collapsed": true
   },
   "outputs": [],
   "source": []
  }
 ],
 "metadata": {
  "kernelspec": {
   "display_name": "Python 3",
   "language": "python",
   "name": "python3"
  },
  "language_info": {
   "codemirror_mode": {
    "name": "ipython",
    "version": 3
   },
   "file_extension": ".py",
   "mimetype": "text/x-python",
   "name": "python",
   "nbconvert_exporter": "python",
   "pygments_lexer": "ipython3",
   "version": "3.5.2"
  }
 },
 "nbformat": 4,
 "nbformat_minor": 2
}
